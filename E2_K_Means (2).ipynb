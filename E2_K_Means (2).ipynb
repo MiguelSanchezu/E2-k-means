{
  "nbformat": 4,
  "nbformat_minor": 0,
  "metadata": {
    "colab": {
      "provenance": [],
      "toc_visible": true
    },
    "kernelspec": {
      "name": "python3",
      "display_name": "Python 3"
    },
    "language_info": {
      "name": "python"
    }
  },
  "cells": [
    {
      "cell_type": "markdown",
      "source": [
        "# Implementation"
      ],
      "metadata": {
        "id": "yKPCJlXL7pfj"
      }
    },
    {
      "cell_type": "markdown",
      "source": [
        "## K Means"
      ],
      "metadata": {
        "id": "NgQUZ5fXirdl"
      }
    },
    {
      "cell_type": "code",
      "execution_count": null,
      "metadata": {
        "id": "J1oPR6ZLgHKq"
      },
      "outputs": [],
      "source": [
        "import random\n",
        "\n",
        "def euclidean_distance(a, b):\n",
        "    return sum([(e - f) ** 2 for e, f in zip(a, b)]) ** 0.5\n",
        "\n",
        "def assign_points_to_clusters(centroids, points):\n",
        "    clusters = [[] for _ in centroids]\n",
        "    for point in points:\n",
        "        closest_centroid_index = min(range(len(centroids)), key=lambda i: euclidean_distance(point, centroids[i]))\n",
        "        clusters[closest_centroid_index].append(point)\n",
        "    return clusters\n",
        "\n",
        "def update_centroids(clusters):\n",
        "    return [[sum(coord) / len(cluster) for coord in zip(*cluster)] if cluster else random.choice(points) for cluster in clusters]\n",
        "\n",
        "def k_means(points, k, max_iterations=100):\n",
        "    centroids = random.sample(points, k)\n",
        "    for _ in range(max_iterations):\n",
        "        clusters = assign_points_to_clusters(centroids, points)\n",
        "        new_centroids = update_centroids(clusters)\n",
        "        if centroids == new_centroids:\n",
        "            break\n",
        "        centroids = new_centroids\n",
        "    return centroids, clusters"
      ]
    },
    {
      "cell_type": "markdown",
      "source": [
        "## Numpy and Numexpr Optimized K-Means"
      ],
      "metadata": {
        "id": "NXS3YZcviu1M"
      }
    },
    {
      "cell_type": "code",
      "source": [
        "import numpy as np\n",
        "import numexpr as ne\n",
        "\n",
        "def assign_points_to_clusters_numpy(centroids, points):\n",
        "    distances = np.sqrt(((points - centroids[:, np.newaxis]) ** 2).sum(axis=2))\n",
        "    cluster_indices = np.argmin(distances, axis=0)\n",
        "    return [points[cluster_indices == k] for k in range(len(centroids))]\n",
        "\n",
        "def update_centroids_numpy(clusters):\n",
        "    return [cluster.mean(axis=0) if len(cluster) > 0 else points[np.random.choice(len(points))] for cluster in clusters]\n",
        "\n",
        "def k_means_numpy(points, k, max_iterations=100):\n",
        "    points = np.array(points)\n",
        "    centroids = points[np.random.choice(len(points), k, replace=False)]\n",
        "    for _ in range(max_iterations):\n",
        "        clusters = assign_points_to_clusters_numpy(centroids, points)\n",
        "        new_centroids = np.array(update_centroids_numpy(clusters))\n",
        "        if np.array_equal(centroids, new_centroids):\n",
        "            break\n",
        "        centroids = new_centroids\n",
        "    return centroids, clusters"
      ],
      "metadata": {
        "id": "8L1h6AwbgVwC"
      },
      "execution_count": null,
      "outputs": []
    },
    {
      "cell_type": "markdown",
      "source": [
        "## Cython"
      ],
      "metadata": {
        "id": "HWLs-Ucgit4U"
      }
    },
    {
      "cell_type": "code",
      "source": [
        "%load_ext cython"
      ],
      "metadata": {
        "id": "fM0lxiBLg0O0"
      },
      "execution_count": null,
      "outputs": []
    },
    {
      "cell_type": "code",
      "source": [
        "%%cython\n",
        "import numpy as np\n",
        "cimport numpy as np\n",
        "\n",
        "from libc.stdlib cimport rand, srand\n",
        "from libc.time cimport time\n",
        "srand(time(NULL))\n",
        "\n",
        "cdef inline double dist(double[:] a, double[:] b):\n",
        "    cdef double d = 0.0\n",
        "    for i in range(a.shape[0]):\n",
        "        d += (a[i] - b[i]) ** 2\n",
        "    return d\n",
        "\n",
        "cdef np.ndarray update_centroids_cython(list clusters, int num_points, int dim):\n",
        "    cdef np.ndarray centroids = np.zeros((len(clusters), dim))\n",
        "    for i in range(len(clusters)):\n",
        "        if len(clusters[i]) > 0:\n",
        "            centroids[i] = np.mean(clusters[i], axis=0)\n",
        "        else:  # Handle empty clusters\n",
        "            centroids[i] = np.random.rand(dim)\n",
        "    return centroids\n",
        "\n",
        "def k_means_cython(np.ndarray[double, ndim=2] points, int k, int max_iterations=100):\n",
        "    cdef int num_points = points.shape[0]\n",
        "    cdef int dim = points.shape[1]\n",
        "    cdef np.ndarray[double, ndim=2] centroids = points[np.random.choice(num_points, k, replace=False)]\n",
        "    cdef list clusters\n",
        "\n",
        "    for _ in range(max_iterations):\n",
        "        clusters = [[] for _ in range(k)]\n",
        "        for point in points:\n",
        "            clusters[np.argmin([dist(point, centroids[i]) for i in range(k)])].append(point)\n",
        "        new_centroids = update_centroids_cython(clusters, num_points, dim)\n",
        "        if np.array_equal(centroids, new_centroids):\n",
        "            break\n",
        "        centroids = new_centroids\n",
        "\n",
        "    return centroids, clusters"
      ],
      "metadata": {
        "id": "ZvJyBylJgatm",
        "colab": {
          "base_uri": "https://localhost:8080/"
        },
        "outputId": "e17bb7b2-a8d1-4f05-ff6c-622b9c98d8fb"
      },
      "execution_count": null,
      "outputs": [
        {
          "output_type": "stream",
          "name": "stdout",
          "text": [
            "Content of stderr:\n",
            "In file included from /usr/local/lib/python3.10/dist-packages/numpy/core/include/numpy/ndarraytypes.h:1929,\n",
            "                 from /usr/local/lib/python3.10/dist-packages/numpy/core/include/numpy/ndarrayobject.h:12,\n",
            "                 from /usr/local/lib/python3.10/dist-packages/numpy/core/include/numpy/arrayobject.h:5,\n",
            "                 from /root/.cache/ipython/cython/_cython_magic_db3569ebff33513e04783251fc4cf9172d2c3c2e.c:1220:\n",
            "/usr/local/lib/python3.10/dist-packages/numpy/core/include/numpy/npy_1_7_deprecated_api.h:17:2: warning: #warning \"Using deprecated NumPy API, disable it with \" \"#define NPY_NO_DEPRECATED_API NPY_1_7_API_VERSION\" [-Wcpp]\n",
            "   17 | #warning \"Using deprecated NumPy API, disable it with \" \\\n",
            "      |  ^~~~~~~"
          ]
        }
      ]
    },
    {
      "cell_type": "markdown",
      "source": [
        "# Experimental Setup"
      ],
      "metadata": {
        "id": "Op_S4cVj7v_B"
      }
    },
    {
      "cell_type": "code",
      "source": [
        "import time\n",
        "import numpy as np\n",
        "import matplotlib.pyplot as plt"
      ],
      "metadata": {
        "id": "P0DHdLEP8At5"
      },
      "execution_count": null,
      "outputs": []
    },
    {
      "cell_type": "code",
      "source": [
        "# Generate synthetic data\n",
        "def generate_data(n, dim):\n",
        "    return np.random.rand(n, dim)"
      ],
      "metadata": {
        "id": "mnNZeo-o7zJp"
      },
      "execution_count": null,
      "outputs": []
    },
    {
      "cell_type": "code",
      "source": [
        "# Define parameters for the experiment\n",
        "K = 5  # Number of clusters\n",
        "dim = 10  # Dimensionality of data points\n",
        "n = 10000  # Size of the dataset\n",
        "\n",
        "# Generate dataset\n",
        "data = generate_data(n, dim)"
      ],
      "metadata": {
        "id": "0i0nqNv58ENz"
      },
      "execution_count": null,
      "outputs": []
    },
    {
      "cell_type": "markdown",
      "source": [
        "## Implementations to test"
      ],
      "metadata": {
        "id": "Xne9orhI8G5c"
      }
    },
    {
      "cell_type": "code",
      "source": [
        "def test_python_implementation(data, K):\n",
        "    start_time = time.time()\n",
        "    centroids, clusters = k_means(data.tolist(), K)\n",
        "    return time.time() - start_time"
      ],
      "metadata": {
        "id": "P7anExyT7-di"
      },
      "execution_count": null,
      "outputs": []
    },
    {
      "cell_type": "code",
      "source": [
        "def test_numpy_implementation(data, K):\n",
        "    start_time = time.time()\n",
        "    centroids, clusters = k_means_numpy(data, K)\n",
        "    return time.time() - start_time"
      ],
      "metadata": {
        "id": "jd1I6X4W76AD"
      },
      "execution_count": null,
      "outputs": []
    },
    {
      "cell_type": "code",
      "source": [
        "def test_cython_implementation(data, K):\n",
        "    start_time = time.time()\n",
        "    centroids, clusters = k_means_cython(np.asarray(data, dtype=np.double), K)\n",
        "    return time.time() - start_time"
      ],
      "metadata": {
        "id": "fRERAlbp73zC"
      },
      "execution_count": null,
      "outputs": []
    },
    {
      "cell_type": "markdown",
      "source": [
        "## Executing the tests"
      ],
      "metadata": {
        "id": "PDzUGzkN8NeF"
      }
    },
    {
      "cell_type": "code",
      "source": [
        "python_time = test_python_implementation(data, K)\n",
        "numpy_time = test_numpy_implementation(data, K)\n",
        "cython_time = test_cython_implementation(data, K)"
      ],
      "metadata": {
        "id": "N-tjwNCB712v"
      },
      "execution_count": null,
      "outputs": []
    },
    {
      "cell_type": "code",
      "source": [
        "print(f'Python time: {python_time}')\n",
        "print(f'Numpy time: {numpy_time}')\n",
        "print(f'Cython time: {cython_time}')"
      ],
      "metadata": {
        "colab": {
          "base_uri": "https://localhost:8080/"
        },
        "id": "GNFHyXGcAToQ",
        "outputId": "22713a52-226c-4e7e-f508-da1cb02a0b9d"
      },
      "execution_count": null,
      "outputs": [
        {
          "output_type": "stream",
          "name": "stdout",
          "text": [
            "Python time: 13.094605207443237\n",
            "Numpy time: 0.4835531711578369\n",
            "Cython time: 10.009319543838501\n"
          ]
        }
      ]
    },
    {
      "cell_type": "markdown",
      "source": [
        "## Plotting the results"
      ],
      "metadata": {
        "id": "skOXUwip8QN8"
      }
    },
    {
      "cell_type": "code",
      "source": [
        "methods = ['Python', 'Numpy', 'Cython']\n",
        "times = [python_time, numpy_time, cython_time]\n",
        "\n",
        "plt.figure(figsize=(14, 5))\n",
        "\n",
        "plt.bar(methods, times)\n",
        "plt.ylabel('Execution Time (s)')\n",
        "plt.title('K-means Implementation Performance Comparison')\n",
        "plt.show()"
      ],
      "metadata": {
        "colab": {
          "base_uri": "https://localhost:8080/",
          "height": 468
        },
        "id": "1PehLRmX701_",
        "outputId": "5657815b-2c33-4392-914f-98d12458bcab"
      },
      "execution_count": null,
      "outputs": [
        {
          "output_type": "display_data",
          "data": {
            "text/plain": [
              "<Figure size 1400x500 with 1 Axes>"
            ],
            "image/png": "[encoded data removed]"
          },
          "metadata": {}
        }
      ]
    },
    {
      "cell_type": "markdown",
      "source": [
        "# Profiling"
      ],
      "metadata": {
        "id": "WIXxGkllDR_W"
      }
    },
    {
      "cell_type": "markdown",
      "source": [
        "## Execution Time Profiling"
      ],
      "metadata": {
        "id": "jl76D9XIDsjK"
      }
    },
    {
      "cell_type": "markdown",
      "source": [
        "### Measuring execution time"
      ],
      "metadata": {
        "id": "k3JkZF4gDYNz"
      }
    },
    {
      "cell_type": "code",
      "source": [
        "import timeit\n",
        "\n",
        "# Setup the environment\n",
        "setup_python = '''\n",
        "from __main__ import k_means, generate_data\n",
        "data = generate_data(10000, 10).tolist()\n",
        "'''\n",
        "\n",
        "setup_numpy = '''\n",
        "from __main__ import k_means_numpy, generate_data\n",
        "data = generate_data(10000, 10)\n",
        "'''\n",
        "\n",
        "setup_cython = '''\n",
        "from __main__ import k_means_cython, generate_data\n",
        "import numpy as np\n",
        "data = np.asarray(generate_data(10000, 10), dtype=np.double)\n",
        "'''\n",
        "\n",
        "# Measure execution time\n",
        "python_time = timeit.timeit('k_means(data, 5)', setup=setup_python, number=10)\n",
        "numpy_time = timeit.timeit('k_means_numpy(data, 5)', setup=setup_numpy, number=10)\n",
        "cython_time = timeit.timeit('k_means_cython(data, 5)', setup=setup_cython, number=10)\n",
        "\n",
        "print(f\"Python: {python_time / 10}s\")\n",
        "print(f\"NumPy/Numexpr: {numpy_time / 10}s\")\n",
        "print(f\"Cython: {cython_time / 10}s\")"
      ],
      "metadata": {
        "colab": {
          "base_uri": "https://localhost:8080/"
        },
        "id": "rNR4vM0JBg1n",
        "outputId": "2bfd978b-cd5e-4aeb-db0e-c805a255fac0"
      },
      "execution_count": null,
      "outputs": [
        {
          "output_type": "stream",
          "name": "stdout",
          "text": [
            "Python: 13.5712566425s\n",
            "NumPy/Numexpr: 0.39486422319999975s\n",
            "Cython: 10.247494905900002s\n"
          ]
        }
      ]
    },
    {
      "cell_type": "markdown",
      "source": [
        "## Memory Usage Profiling"
      ],
      "metadata": {
        "id": "eek64ZEQDoOj"
      }
    },
    {
      "cell_type": "code",
      "source": [
        "pip install memory_profiler"
      ],
      "metadata": {
        "colab": {
          "base_uri": "https://localhost:8080/"
        },
        "id": "PzNaJLdQCEXZ",
        "outputId": "7b82ab34-48e8-43fa-d64f-3eb61fbe6803"
      },
      "execution_count": null,
      "outputs": [
        {
          "output_type": "stream",
          "name": "stdout",
          "text": [
            "Collecting memory_profiler\n",
            "  Downloading memory_profiler-0.61.0-py3-none-any.whl (31 kB)\n",
            "Requirement already satisfied: psutil in /usr/local/lib/python3.10/dist-packages (from memory_profiler) (5.9.5)\n",
            "Installing collected packages: memory_profiler\n",
            "Successfully installed memory_profiler-0.61.0\n"
          ]
        }
      ]
    },
    {
      "cell_type": "code",
      "source": [
        "import time\n",
        "import numpy as np\n",
        "from memory_profiler import profile"
      ],
      "metadata": {
        "id": "E7UOYTQiKRQz"
      },
      "execution_count": null,
      "outputs": []
    },
    {
      "cell_type": "code",
      "source": [
        "def k_means(points, k, max_iterations=100):\n",
        "    # Ensure that points is a list or tuple\n",
        "    if not isinstance(points, (list, tuple)):\n",
        "        points = list(points)\n",
        "\n",
        "    centroids = random.sample(points, k)\n",
        "    for _ in range(max_iterations):\n",
        "        clusters = assign_points_to_clusters(centroids, points)\n",
        "\n",
        "    # Return the centroids and clusters\n",
        "    return centroids, clusters\n",
        "\n",
        "@profile\n",
        "def profile_python_implementation(data, K):\n",
        "    centroids, clusters = k_means(data, K)\n",
        "\n",
        "@profile\n",
        "def profile_numpy_implementation(data, K):\n",
        "    centroids, clusters = k_means_numpy(data, K)\n",
        "\n",
        "@profile\n",
        "def profile_cython_implementation(data, K):\n",
        "    centroids, clusters = k_means_cython(data, K)\n",
        "\n",
        "# Call the functions using memory_usage\n",
        "mem_usage_py = memory_usage((profile_python_implementation, (data, K)))\n",
        "mem_usage_np = memory_usage((profile_numpy_implementation, (data, K)))\n",
        "mem_usage_cy = memory_usage((profile_cython_implementation, (data, K)))\n",
        "\n",
        "# Display memory usage\n",
        "print(\"Python implementation memory usage:\", max(mem_usage_py))\n",
        "print(\"NumPy implementation memory usage:\", max(mem_usage_np))\n",
        "print(\"Cython implementation memory usage:\", max(mem_usage_cy))"
      ],
      "metadata": {
        "colab": {
          "base_uri": "https://localhost:8080/"
        },
        "id": "0Z71olUjVdfg",
        "outputId": "d81e84cd-47c3-4d4b-b01a-e71231718ed5"
      },
      "execution_count": null,
      "outputs": [
        {
          "output_type": "stream",
          "name": "stdout",
          "text": [
            "ERROR: Could not find file <ipython-input-21-19b0256da8e4>\n",
            "NOTE: %mprun can only be used on functions defined in physical files, and not in the IPython environment.\n",
            "ERROR: Could not find file <ipython-input-21-19b0256da8e4>\n",
            "NOTE: %mprun can only be used on functions defined in physical files, and not in the IPython environment.\n",
            "ERROR: Could not find file <ipython-input-21-19b0256da8e4>\n",
            "NOTE: %mprun can only be used on functions defined in physical files, and not in the IPython environment.\n",
            "ERROR: Could not find file <ipython-input-21-19b0256da8e4>\n",
            "NOTE: %mprun can only be used on functions defined in physical files, and not in the IPython environment.\n",
            "Python implementation memory usage: 246.12890625\n",
            "NumPy implementation memory usage: 246.1953125\n",
            "Cython implementation memory usage: 246.1953125\n"
          ]
        }
      ]
    },
    {
      "cell_type": "markdown",
      "source": [
        "# Execution and Analysis"
      ],
      "metadata": {
        "id": "bvmaHQgYQneu"
      }
    },
    {
      "cell_type": "code",
      "source": [
        "# Varying dataset size\n",
        "data_sizes = [1000, 5000, 10000, 50000, 100000]\n",
        "python_times = []\n",
        "numpy_times = []\n",
        "cython_times = []\n",
        "\n",
        "for n in data_sizes:\n",
        "    data = generate_data(n, dim)\n",
        "    python_time = test_python_implementation(data, K)\n",
        "    numpy_time = test_numpy_implementation(data, K)\n",
        "    cython_time = test_cython_implementation(data, K)\n",
        "    python_times.append(python_time)\n",
        "    numpy_times.append(numpy_time)\n",
        "    cython_times.append(cython_time)\n",
        "\n",
        "# Plot the results\n",
        "plt.figure(figsize=(14, 5))\n",
        "plt.plot(data_sizes, python_times, label='Python')\n",
        "plt.plot(data_sizes, numpy_times, label='NumPy')\n",
        "plt.plot(data_sizes, cython_times, label='Cython')\n",
        "plt.ylabel('Execution Time (s)')\n",
        "plt.xlabel('Dataset Size')\n",
        "plt.title('K-means Implementation Performance Comparison: Varying Dataset Size')\n",
        "plt.legend()\n",
        "plt.show()\n",
        "\n",
        "# Varying dimensionality\n",
        "dimensions = [5, 10, 50, 100, 500]\n",
        "python_times = []\n",
        "numpy_times = []\n",
        "cython_times = []\n",
        "\n",
        "for dim in dimensions:\n",
        "    data = generate_data(n, dim)\n",
        "    python_time = test_python_implementation(data, K)\n",
        "    numpy_time = test_numpy_implementation(data, K)\n",
        "    cython_time = test_cython_implementation(data, K)\n",
        "    python_times.append(python_time)\n",
        "    numpy_times.append(numpy_time)\n",
        "    cython_times.append(cython_time)\n",
        "\n",
        "# Plot the results\n",
        "plt.figure(figsize=(14, 5))\n",
        "plt.plot(dimensions, python_times, label='Python')\n",
        "plt.plot(dimensions, numpy_times, label='NumPy')\n",
        "plt.plot(dimensions, cython_times, label='Cython')\n",
        "plt.ylabel('Execution Time (s)')\n",
        "plt.xlabel('Dimensionality')\n",
        "plt.title('K-means Implementation Performance Comparison: Varying Dimensionality')\n",
        "plt.legend()\n",
        "plt.show()"
      ],
      "metadata": {
        "colab": {
          "base_uri": "https://localhost:8080/",
          "height": 1000
        },
        "id": "XT6XBwdEzOH7",
        "outputId": "d9844cd1-e843-419f-8cb0-1418684503aa"
      },
      "execution_count": null,
      "outputs": [
        {
          "output_type": "stream",
          "name": "stdout",
          "text": [
            "ERROR: Could not find file <ipython-input-17-d642d1490bdd>\n",
            "NOTE: %mprun can only be used on functions defined in physical files, and not in the IPython environment.\n",
            "Python implementation execution time: 9.45561933517456 seconds\n",
            "ERROR: Could not find file <ipython-input-17-d642d1490bdd>\n",
            "NOTE: %mprun can only be used on functions defined in physical files, and not in the IPython environment.\n",
            "NumPy implementation execution time: 0.015059947967529297 seconds\n",
            "ERROR: Could not find file <ipython-input-17-d642d1490bdd>\n",
            "NOTE: %mprun can only be used on functions defined in physical files, and not in the IPython environment.\n",
            "Cython implementation execution time: 0.9935626983642578 seconds\n",
            "ERROR: Could not find file <ipython-input-17-d642d1490bdd>\n",
            "NOTE: %mprun can only be used on functions defined in physical files, and not in the IPython environment.\n",
            "Python implementation execution time: 44.31220293045044 seconds\n",
            "ERROR: Could not find file <ipython-input-17-d642d1490bdd>\n",
            "NOTE: %mprun can only be used on functions defined in physical files, and not in the IPython environment.\n",
            "NumPy implementation execution time: 0.20983386039733887 seconds\n",
            "ERROR: Could not find file <ipython-input-17-d642d1490bdd>\n",
            "NOTE: %mprun can only be used on functions defined in physical files, and not in the IPython environment.\n",
            "Cython implementation execution time: 10.71001672744751 seconds\n",
            "ERROR: Could not find file <ipython-input-17-d642d1490bdd>\n",
            "NOTE: %mprun can only be used on functions defined in physical files, and not in the IPython environment.\n",
            "Python implementation execution time: 88.45027613639832 seconds\n",
            "ERROR: Could not find file <ipython-input-17-d642d1490bdd>\n",
            "NOTE: %mprun can only be used on functions defined in physical files, and not in the IPython environment.\n",
            "NumPy implementation execution time: 0.383556604385376 seconds\n",
            "ERROR: Could not find file <ipython-input-17-d642d1490bdd>\n",
            "NOTE: %mprun can only be used on functions defined in physical files, and not in the IPython environment.\n",
            "Cython implementation execution time: 37.00432229042053 seconds\n",
            "ERROR: Could not find file <ipython-input-17-d642d1490bdd>\n",
            "NOTE: %mprun can only be used on functions defined in physical files, and not in the IPython environment.\n",
            "Python implementation execution time: 437.4820101261139 seconds\n",
            "ERROR: Could not find file <ipython-input-17-d642d1490bdd>\n",
            "NOTE: %mprun can only be used on functions defined in physical files, and not in the IPython environment.\n",
            "NumPy implementation execution time: 2.7415988445281982 seconds\n",
            "ERROR: Could not find file <ipython-input-17-d642d1490bdd>\n",
            "NOTE: %mprun can only be used on functions defined in physical files, and not in the IPython environment.\n",
            "Cython implementation execution time: 191.82096028327942 seconds\n",
            "ERROR: Could not find file <ipython-input-17-d642d1490bdd>\n",
            "NOTE: %mprun can only be used on functions defined in physical files, and not in the IPython environment.\n",
            "Python implementation execution time: 872.6252269744873 seconds\n",
            "ERROR: Could not find file <ipython-input-17-d642d1490bdd>\n",
            "NOTE: %mprun can only be used on functions defined in physical files, and not in the IPython environment.\n",
            "NumPy implementation execution time: 6.921597957611084 seconds\n",
            "ERROR: Could not find file <ipython-input-17-d642d1490bdd>\n",
            "NOTE: %mprun can only be used on functions defined in physical files, and not in the IPython environment.\n",
            "Cython implementation execution time: 385.75227880477905 seconds\n"
          ]
        },
        {
          "output_type": "display_data",
          "data": {
            "text/plain": [
              "<Figure size 1400x500 with 1 Axes>"
            ],
            "image/png": "[encoded data removed]"
          },
          "metadata": {}
        },
        {
          "output_type": "stream",
          "name": "stdout",
          "text": [
            "ERROR: Could not find file <ipython-input-17-d642d1490bdd>\n",
            "NOTE: %mprun can only be used on functions defined in physical files, and not in the IPython environment.\n",
            "Python implementation execution time: 640.6798465251923 seconds\n",
            "ERROR: Could not find file <ipython-input-17-d642d1490bdd>\n",
            "NOTE: %mprun can only be used on functions defined in physical files, and not in the IPython environment.\n",
            "NumPy implementation execution time: 4.047895193099976 seconds\n",
            "ERROR: Could not find file <ipython-input-17-d642d1490bdd>\n",
            "NOTE: %mprun can only be used on functions defined in physical files, and not in the IPython environment.\n",
            "Cython implementation execution time: 384.1352608203888 seconds\n",
            "ERROR: Could not find file <ipython-input-17-d642d1490bdd>\n",
            "NOTE: %mprun can only be used on functions defined in physical files, and not in the IPython environment.\n",
            "Python implementation execution time: 872.4961471557617 seconds\n",
            "ERROR: Could not find file <ipython-input-17-d642d1490bdd>\n",
            "NOTE: %mprun can only be used on functions defined in physical files, and not in the IPython environment.\n",
            "NumPy implementation execution time: 7.554880619049072 seconds\n",
            "ERROR: Could not find file <ipython-input-17-d642d1490bdd>\n",
            "NOTE: %mprun can only be used on functions defined in physical files, and not in the IPython environment.\n",
            "Cython implementation execution time: 383.96227073669434 seconds\n",
            "ERROR: Could not find file <ipython-input-17-d642d1490bdd>\n",
            "NOTE: %mprun can only be used on functions defined in physical files, and not in the IPython environment.\n"
          ]
        }
      ]
    },
    {
      "cell_type": "markdown",
      "source": [
        "Analyzing the results\n",
        "- Python implementation is the slowest in all cases.\n",
        "- Cython implementation is the fastest in all cases.\n",
        "- NumPy implementation is faster than Python but slower than Cython.\n",
        "- The performance gap between the implementations increases with increasing dataset size and dimensionality.\n",
        "- Cython implementation scales the best with increasing dataset size and dimensionality."
      ],
      "metadata": {
        "id": "kmlWbcQvQvLr"
      }
    }
  ]
}